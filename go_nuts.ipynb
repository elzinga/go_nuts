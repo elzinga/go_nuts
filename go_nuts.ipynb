{
 "cells": [
  {
   "cell_type": "code",
   "execution_count": null,
   "metadata": {},
   "outputs": [],
   "source": [
    "library(data.table)\n",
    "library(rethinking)"
   ]
  },
  {
   "cell_type": "code",
   "execution_count": null,
   "metadata": {},
   "outputs": [],
   "source": [
    "options(mc.cores = parallel::detectCores())"
   ]
  },
  {
   "cell_type": "code",
   "execution_count": null,
   "metadata": {},
   "outputs": [],
   "source": [
    "setwd('~/go_nuts/')"
   ]
  },
  {
   "cell_type": "code",
   "execution_count": null,
   "metadata": {},
   "outputs": [],
   "source": [
    "# Load trials data\n",
    "trials1 = fread('~/go_nuts/trials022319.csv', \n",
    "            sep = '\\t',\n",
    "            header = FALSE,\n",
    "            col.names = c('start', 'surface', 'outcome'))\n",
    "trials2 = fread('~/go_nuts/trials022409.csv',\n",
    "                sep = '\\t',\n",
    "                header = FALSE,\n",
    "                col.names = c('start', 'surface', 'outcome'))\n",
    "trials3 = fread('~/go_nuts/trials022519.csv',\n",
    "                sep = '\\t',\n",
    "                header = FALSE,\n",
    "                col.names = c('start', 'surface', 'outcome'))\n",
    "trials4 = fread('~/go_nuts/trials02271408.csv',\n",
    "                sep = '\\t',\n",
    "                header = FALSE,\n",
    "                col.names = c('start', 'surface', 'outcome'))\n",
    "cat('trials1:\\n')\n",
    "trials1[, .N, by = .(start, surface, outcome)]\n",
    "cat('trials2:\\n')\n",
    "trials2[, .N, by = .(start, surface, outcome)]\n",
    "cat('trials3:\\n')\n",
    "trials3[, .N, by = .(start, surface, outcome)]\n",
    "cat('trials4:\\n')\n",
    "trials4[, .N, by = .(start, surface, outcome)]\n",
    "\n",
    "trials = rbind(\n",
    "  trials1, \n",
    "  trials2, \n",
    "  trials3, \n",
    "  trials4\n",
    ")\n",
    "cat('all trials:\\n')\n",
    "trials[, .N, by = .(start, surface)]"
   ]
  },
  {
   "cell_type": "code",
   "execution_count": null,
   "metadata": {},
   "outputs": [],
   "source": [
    "# Add derived outcome, wherever it equals the start\n",
    "trials[, outcome_eq_start := as.integer(outcome == start)]\n",
    "cat('Table on outcome_eq_start:\\n')\n",
    "trials[, .N, by = outcome_eq_start]"
   ]
  },
  {
   "cell_type": "code",
   "execution_count": null,
   "metadata": {},
   "outputs": [],
   "source": [
    "# Add 0/1 columns for boolean variables:\n",
    "trials[, start_h := as.integer(start == 'H')]\n",
    "trials[, surface_c := as.integer((surface == 'C'))]\n",
    "trials[, outcome_h := as.integer(outcome == 'H')]\n",
    "print(head(trials))"
   ]
  },
  {
   "cell_type": "code",
   "execution_count": null,
   "metadata": {},
   "outputs": [],
   "source": [
    "d <- trials"
   ]
  },
  {
   "cell_type": "code",
   "execution_count": null,
   "metadata": {},
   "outputs": [],
   "source": [
    "# Must convert to integer so Stan can treat properly:\n",
    "# stone,tails ; stone,heads ; cloth,tails ; cloth,heads\n",
    "d$treatment <- as.integer(1 + d$start_h + 2*d$surface_c)\n",
    "head(d)"
   ]
  },
  {
   "cell_type": "code",
   "execution_count": null,
   "metadata": {},
   "outputs": [],
   "source": [
    "# Try a very flat prior on the intercept, a:\n",
    "m11.1coin_flatprior <- quap(\n",
    "    alist(\n",
    "        outcome_h ~ dbinom(1, p),\n",
    "        logit(p) <- a,\n",
    "        a ~ dnorm(0, 10)\n",
    "    ),\n",
    "    data = d\n",
    ")\n",
    "set.seed(1999)\n",
    "prior <- extract.prior(m11.1coin_flatprior, n = 1e4)\n",
    "\n",
    "p <- inv_logit(prior$a)\n",
    "\n",
    "dens(p, adj=0.1, main = 'With flat prior, `prior$a` suggests all heads or all tails.')\n",
    "\n",
    "# With a regularizing prior, we encode the information that even an adulterated coin has p\n",
    "# centered around .5 -- it has the side-effect of making the sampler much more efficient, later.\n",
    "m11.1coin <- quap(\n",
    "    alist(\n",
    "        outcome_h ~ dbinom(1, p),\n",
    "        logit(p) <- a,\n",
    "        a ~ dnorm(0, 1.5)\n",
    "    ),\n",
    "    data = d\n",
    ")\n",
    "set.seed(1999)\n",
    "prior <- extract.prior(m11.1coin, n = 1e4)\n",
    "\n",
    "p <- inv_logit(prior$a)\n",
    "\n",
    "dens(p, adj=0.1, main = 'With gently regularizing prior, the prior-only predictions seem better.', \n",
    "     col = 'dodgerBlue')"
   ]
  },
  {
   "cell_type": "code",
   "execution_count": null,
   "metadata": {},
   "outputs": [],
   "source": [
    "m11.2coin <- quap(\n",
    "    alist(\n",
    "        outcome_h ~ dbinom(1, p),\n",
    "        logit(p) <- a + b[treatment],\n",
    "        a ~ dnorm(0, 1.5),\n",
    "        b[treatment] ~ dnorm(0, 10)\n",
    "    ),\n",
    "    data = d\n",
    ")\n",
    "set.seed(1999)\n",
    "prior <- extract.prior(m11.2coin, n = 1e4)\n",
    "num_treatments = length(unique(d$treatment))\n",
    "cat(paste('Number of treatments:', num_treatments))\n",
    "p <- sapply(1:(num_treatments - 1), function(k) inv_logit(prior$a + prior$b[,k]))\n",
    "\n",
    "dens(abs(p[,1] - p[,2]), adj = 0.1)"
   ]
  },
  {
   "cell_type": "code",
   "execution_count": null,
   "metadata": {},
   "outputs": [],
   "source": [
    "m11.3coin_better <- quap(\n",
    "    alist(\n",
    "        outcome_h ~ dbinom(1, p),\n",
    "        logit(p) <- a + b[treatment],\n",
    "        a ~ dnorm(0, 1.5),\n",
    "        b[treatment] ~ dnorm(0, .5)\n",
    "    ),\n",
    "    data = d\n",
    ")\n",
    "set.seed(1999)\n",
    "prior <- extract.prior(m11.3coin_better, n = 1e4)\n",
    "num_treatments = length(unique(d$treatment))\n",
    "cat(paste('Number of treatments:', num_treatments))\n",
    "p <- sapply(1:(num_treatments - 1), function(k) inv_logit(prior$a + prior$b[,k]))\n",
    "\n",
    "dens(abs(p[,1] - p[,2]), adj = 0.1, 'Treatment effects now regularized in the prior', \n",
    "     col = 'dodgerBlue2')"
   ]
  },
  {
   "cell_type": "code",
   "execution_count": null,
   "metadata": {},
   "outputs": [],
   "source": [
    "dat_list_simple <- list(\n",
    "    outcome_h = d$outcome_h,\n",
    "    surface_c1 = d$surface_c\n",
    ")"
   ]
  },
  {
   "cell_type": "code",
   "execution_count": null,
   "metadata": {},
   "outputs": [],
   "source": [
    "m11.4pop_only <- ulam(\n",
    "    alist(\n",
    "        outcome_h ~ dbinom(1, p),\n",
    "        logit(p) <- a + b * surface_c1,\n",
    "        a ~ dnorm(0, 1.5),\n",
    "        b ~ dnorm(0, .5)\n",
    "    ),\n",
    "    data = dat_list_simple, \n",
    "    chains = 4, iter = 5000, warmup = 1000, log_lik = TRUE\n",
    ")\n"
   ]
  },
  {
   "cell_type": "code",
   "execution_count": null,
   "metadata": {},
   "outputs": [],
   "source": [
    "precis(m11.4pop_only, depth = 2)\n",
    "plot(precis(m11.4pop_only, depth = 2))"
   ]
  },
  {
   "cell_type": "code",
   "execution_count": null,
   "metadata": {},
   "outputs": [],
   "source": [
    "show(m11.4pop_only)"
   ]
  },
  {
   "cell_type": "code",
   "execution_count": null,
   "metadata": {},
   "outputs": [],
   "source": [
    "cat('Number of posterior samples:',length(post$a))"
   ]
  },
  {
   "cell_type": "code",
   "execution_count": null,
   "metadata": {},
   "outputs": [],
   "source": [
    "post <- extract.samples(m11.4pop_only)\n",
    "plen <- length(post$a)\n",
    "zeros <- floor(length(post$a)/2)\n",
    "surface_synth <- c(rep(0, zeros), rep(1, plen-zeros))"
   ]
  },
  {
   "cell_type": "code",
   "execution_count": null,
   "metadata": {},
   "outputs": [],
   "source": [
    "p_heads <- inv_logit(post$a + post$b * surface_synth)"
   ]
  },
  {
   "cell_type": "code",
   "execution_count": null,
   "metadata": {},
   "outputs": [],
   "source": [
    "probs  <- list(\n",
    "    surface_stone = inv_logit(post$a[surface_synth == 0] + \n",
    "                              post$b[surface_synth == 0] * surface_synth[surface_synth == 0]),\n",
    "    surface_cloth = inv_logit(post$a[surface_synth == 1] + \n",
    "                              post$b[surface_synth == 1] * surface_synth[surface_synth == 1])  \n",
    ")"
   ]
  },
  {
   "cell_type": "code",
   "execution_count": null,
   "metadata": {},
   "outputs": [],
   "source": [
    "plot(precis(as.data.table(probs)), labels = names(probs))\n",
    "abline(v = .5, col = 'gray60')"
   ]
  },
  {
   "cell_type": "code",
   "execution_count": null,
   "metadata": {},
   "outputs": [],
   "source": [
    "# PREPARE FOR MORE COMPLICATED MODEL\n",
    "# prior trimmed data list\n",
    "# Need surface column to also work as a subscript in R, \n",
    "# which means needs values from 1:2 not 0:1\n",
    "dat_list <- list(\n",
    "    outcome_h = d$outcome_h,\n",
    "    surface_c1 = as.integer(d$surface_c + 1),\n",
    "    treatment = d$treatment\n",
    ")"
   ]
  },
  {
   "cell_type": "code",
   "execution_count": null,
   "metadata": {},
   "outputs": [],
   "source": [
    "# Particles in many-dimensional space:\n",
    "# Sampling... for this case, this takes time to compile the model,\n",
    "# offload it to Stan for external processing, and reload the results.\n",
    "m11.4coin <- ulam(\n",
    "    alist(\n",
    "        outcome_h ~ dbinom(1, p),\n",
    "        logit(p) <- a[surface_c1] + b[treatment],\n",
    "        a[surface_c1] ~ dnorm(0, 1.5),\n",
    "        b[treatment] ~ dnorm(0, 0.5)\n",
    "    ),\n",
    "    data = dat_list, \n",
    "    chains = 4, iter = 5000, warmup = 1000, log_lik = TRUE\n",
    ")\n",
    "precis(m11.4coin, depth = 2)"
   ]
  },
  {
   "cell_type": "code",
   "execution_count": null,
   "metadata": {},
   "outputs": [],
   "source": [
    "show(m11.4coin)"
   ]
  },
  {
   "cell_type": "code",
   "execution_count": null,
   "metadata": {},
   "outputs": [],
   "source": [
    "post <- extract.samples(m11.4coin)\n",
    "p_heads <- inv_logit(post$a)\n",
    "colnames(p_heads) <- c('surface_stone', 'surface_cloth')\n",
    "plot(precis(as.data.frame(p_heads)), xlim = c(0,1))\n",
    "abline(v = .5, col = 'gray60')"
   ]
  },
  {
   "cell_type": "code",
   "execution_count": null,
   "metadata": {},
   "outputs": [],
   "source": [
    "# 11.12 adapted\n",
    "labs <- c('stone/start_tails', 'stone/start_heads', 'cloth/start_tails', 'cloth/start_heads')\n",
    "plot(precis(m11.4coin, depth = 2, pars = 'b'), labels = labs, main = 'Treatment effects')\n",
    "diffs <- list(\n",
    "    'cl/sta_t-sto/sta_t' = post$b[,1] - post$b[,3],\n",
    "    'cl/sta_h-sto/sta_h' = post$b[,2] - post$b[,4]\n",
    ")\n",
    "plot(precis(diffs), labels = c('cloth/start_t - stone/start_t', 'cloth/start_h - stone/start_h'),\n",
    "     main = 'Contrasts between the cloth & stone treatments')"
   ]
  },
  {
   "cell_type": "code",
   "execution_count": null,
   "metadata": {},
   "outputs": [],
   "source": [
    "# Let's compare the simpler, varying-intercepts \n",
    "compare(m11.4pop_only, m11.4coin)"
   ]
  },
  {
   "cell_type": "code",
   "execution_count": null,
   "metadata": {},
   "outputs": [],
   "source": [
    "# Let's check the trace plots to see how our Markov chains did. No sign of \n",
    "traceplot(m11.4coin)"
   ]
  },
  {
   "cell_type": "code",
   "execution_count": null,
   "metadata": {},
   "outputs": [],
   "source": [
    "# If there were problems sampling, we can plot Stan's fitted-model output.\n",
    "# If there were serious sampling problems, we'd see some very lopsided plots here,\n",
    "# instead of round or slanted probability clouds.\n",
    "pairs(m11.4coin@stanfit)"
   ]
  },
  {
   "cell_type": "code",
   "execution_count": null,
   "metadata": {},
   "outputs": [],
   "source": [
    "#11.14 adapted\n",
    "pl <- by(dat_list$outcome_h, list(dat_list$surface_c1, dat_list$treatment), mean)\n"
   ]
  },
  {
   "cell_type": "code",
   "execution_count": null,
   "metadata": {},
   "outputs": [],
   "source": [
    "# 11.15 adapted\n",
    "plot(NULL, xlim = c(1, 8), ylim = c(0, 1), xlab = '',\n",
    "    ylab = 'proportion heads outcome', xaxt='n', yaxt='n')\n",
    "axis(2, at=c(0, 0.5, 1), labels = c(0, 0.5, 1))\n",
    "abline(h=0.5, lty = 2)\n",
    "for (j in 1:2) abline(v=(j-1)*4+4.5, lwd = 0.5)\n",
    "for (j in 1:2) text((j-1)*4 + 2.5, 1.1, c('surface_stone', 'surface_cloth')[j], xpd = TRUE)\n",
    "for (j in 1:2) {\n",
    "    lines((j-1)*4 + c(1,3), pl[j, c(1,3)], lwd = 2, col = rangi2)\n",
    "    lines((j-1)*4 + c(2,4), pl[j, c(2,4)], lwd = 2, col = rangi2)\n",
    "}\n",
    "points(1:8, t(pl), pch=16, col='white', cex = 1.7)\n",
    "points(1:8, t(pl), pch = c(1, 1, 16, 16), col = rangi2, lwd=2)\n",
    "yoff <- 0.01\n",
    "text(1, pl[1,1]-yoff, 'S/T', pos=1, cex = 0.8)\n",
    "text(2, pl[1,2]+yoff, 'S/H', pos=3, cex = 0.8)\n",
    "text(3, pl[1,3]-yoff, 'C/T', pos=1, cex = 0.8)\n",
    "text(4, pl[1,4]+yoff, 'C/H', pos=3, cex = 0.8)\n",
    "mtext('observed proportions\\n')"
   ]
  },
  {
   "cell_type": "code",
   "execution_count": null,
   "metadata": {},
   "outputs": [],
   "source": [
    "d.pred <- list(\n",
    "    treatment = c(1,2,3,4,1,2,3,4),\n",
    "    surface_c1 = c(1,1,1,1,2,2,2,2)\n",
    ")\n",
    "\n",
    "link.m11.4coin <- link(m11.4coin, data = d.pred)\n",
    "\n",
    "apply(link.m11.4coin, 2, mean)"
   ]
  }
 ],
 "metadata": {
  "kernelspec": {
   "display_name": "R",
   "language": "R",
   "name": "ir"
  },
  "language_info": {
   "codemirror_mode": "r",
   "file_extension": ".r",
   "mimetype": "text/x-r-source",
   "name": "R",
   "pygments_lexer": "r",
   "version": "3.5.2"
  }
 },
 "nbformat": 4,
 "nbformat_minor": 2
}
